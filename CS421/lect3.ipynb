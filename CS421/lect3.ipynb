{
  "cells": [
    {
      "cell_type": "markdown",
      "metadata": {},
      "source": [
        "<h1 class=post >Closures and Evaluation of Function Application, Order of Evaluation in OCaml</h1>\n",
        "<span class='meta'>Jan 25, 2024</span>\n",
        "<hr/>\n",
        "\n",
        "\n",
        "<span style=\"font-size: 1.5em;\"> Functions with more than one argument </span>\n",
        "\n",
        "\n",
        "```{ocaml}\n",
        "let add_three x + y + z = x + y + z;;\n",
        "```"
      ],
      "id": "c1058f19"
    }
  ],
  "metadata": {
    "kernelspec": {
      "name": "python3",
      "language": "python",
      "display_name": "Python 3 (ipykernel)"
    }
  },
  "nbformat": 4,
  "nbformat_minor": 5
}