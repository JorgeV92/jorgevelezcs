{
  "cells": [
    {
      "cell_type": "markdown",
      "metadata": {},
      "source": [
        "<h1 class=post >Recursion</h1>\n",
        "<span class='meta'>Jan 25, 2024</span>\n",
        "<hr/>\n",
        "\n",
        "Functional programmers are defined by their love of recursive functions, and in many ways recursive functions in functional programming are the equivalent of loops in imperative programming. In functional languages, loops are second-class citizens, whlist recursive get all the best support.\n",
        "\n",
        "Writing recursive functions requires a change in mindset from writing for loops and while loops, so this section will be just an introduction and a few examples.\n",
        "\n",
        "In the first example, we'll read the whole file into memory (into a long string). There are essentially three possible approaches to this:\n",
        "\n",
        "<span style=\"font-size: 1.5em;\"> Approach 1</span>\n",
        "\n",
        "Get the length of the file and read it all at once using the really_input method. This is the simplest, but it might not work on channels that are not really files (e.g., reading keyboard input) which is why we have two other approaches.\n",
        "\n",
        "<span style=\"font-size: 1.5em;\"> Forward Recursion and fold_right, even_count_fr</span>\n",
        "\n",
        "Outcome learn more about Forward recursion and how to use fold_right.\n",
        "\n",
        "Write a function even_count_fr : int list -> int that returns the number of even integers found in the input list. The function is required to use (only) forward recursion (no other form of recursion). You may not use any library functions or any problems later in this set.\n",
        "\n",
        "\n",
        "```{ocmal}\n",
        "let rec even_count_fr list = \n",
        "    match list with \n",
        "    | [] -> 0\n",
        "    | (x::xs) -> let count_result = even_count_fr xs in \n",
        "    if (x mod 2) = 0 then (1 + count_result) else count_result\n",
        "```"
      ],
      "id": "2ed66efb"
    }
  ],
  "metadata": {
    "kernelspec": {
      "name": "python3",
      "language": "python",
      "display_name": "Python 3 (ipykernel)"
    }
  },
  "nbformat": 4,
  "nbformat_minor": 5
}