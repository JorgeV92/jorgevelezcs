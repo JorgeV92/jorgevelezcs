{
  "cells": [
    {
      "attachments": {},
      "cell_type": "markdown",
      "id": "eb73cda8",
      "metadata": {},
      "source": [
        "<h1 class=post>Reinforcement Learning</h1>\n",
        "<span class='meta'>Nov 22, 2023</span>\n",
        "\n",
        "\n",
        "All notes are based on the course at UIUC CS 443 taught by professor <a href=\"https://nanjiang.cs.illinois.edu/\" style= color: blue> Nan Jiang (姜楠)</a>. Also I use material from <a href=\"https://ai.stanford.edu/~gwthomas/notes/\" style= {{color: blue>Garrett Thomas</a>. \n",
        "\n",
        "### Markov Decision Process \n",
        "<span class='meta'>Nov 22, 2023</span></br>\n",
        "In this section, we will discuss how to formulate reinforcement learning problems using Markov decision processes (MDPs) and describe various components of MDPs in detail.\n",
        "\n",
        "### Value Function\n",
        "<span class='meta'>Nov 22, 2023</span></br>\n",
        "In this section we will discuss how to pick the best action for the robot at each state to maximize the return of the trajectory. We will describe an algorithm called Value Iteration and implement it for a simulated robot that travels over a frozen lake.\n",
        "\n",
        "### Bellman Equation\n",
        "<span class='meta'>Nov 22, 2023</span>\n"
      ]
    },
    {
      "cell_type": "code",
      "execution_count": null,
      "id": "b0762ba1",
      "metadata": {},
      "outputs": [],
      "source": [
        "# Your Python code goes here\n",
        "def example_function():\n",
        "    return \"This is a Python function.\"\n",
        "\n",
        "print(example_function())"
      ]
    }
  ],
  "metadata": {
    "kernelspec": {
      "display_name": "Python 3 (ipykernel)",
      "language": "python",
      "name": "python3"
    }
  },
  "nbformat": 4,
  "nbformat_minor": 5
}
